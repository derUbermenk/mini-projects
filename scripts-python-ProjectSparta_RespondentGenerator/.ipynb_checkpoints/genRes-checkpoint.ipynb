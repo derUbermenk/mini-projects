{
 "cells": [
  {
   "cell_type": "code",
   "execution_count": 1,
   "metadata": {},
   "outputs": [
    {
     "ename": "SyntaxError",
     "evalue": "invalid syntax (<ipython-input-1-26f79a0c75b2>, line 3)",
     "output_type": "error",
     "traceback": [
      "\u001b[1;36m  File \u001b[1;32m\"<ipython-input-1-26f79a0c75b2>\"\u001b[1;36m, line \u001b[1;32m3\u001b[0m\n\u001b[1;33m    self.region =\u001b[0m\n\u001b[1;37m                  ^\u001b[0m\n\u001b[1;31mSyntaxError\u001b[0m\u001b[1;31m:\u001b[0m invalid syntax\n"
     ]
    }
   ],
   "source": [
    "class Respondent:\n",
    "    def __init__(self):\n",
    "        self.region = assignRegion(self)\n",
    "        self.budgetAllocation =\n",
    "        self.pre_panSalary = \n",
    "        self.panSalary =\n",
    "         \n",
    "        \n",
    "    def assignRegion(self):\n",
    "        import numpy.random\n",
    "        regionsList = ['Region V - Bicol Region', 'NCR - National Capital Region', 'Region III - Central Luzon', \n",
    "                       'Region VII - Central Visayas', 'Region IVA - CALABARZON', \n",
    "                       'CAR - Cordillera Administrative Region', 'Region I - Ilocos Region']\n",
    "        regionDistribution = [0.28, 0.28, 0.19, 0.03, 0.16, 0.03, 0.03]\n",
    "        return numpy.random.choice(regionsList,p = regionDistribution)\n",
    "    \n",
    "    def salaryPre(self):\n",
    "        \n",
    "\n",
    "\n",
    "\n",
    "        \n",
    "\n"
   ]
  },
  {
   "cell_type": "code",
   "execution_count": null,
   "metadata": {},
   "outputs": [],
   "source": []
  }
 ],
 "metadata": {
  "kernelspec": {
   "display_name": "Python 3",
   "language": "python",
   "name": "python3"
  },
  "language_info": {
   "codemirror_mode": {
    "name": "ipython",
    "version": 3
   },
   "file_extension": ".py",
   "mimetype": "text/x-python",
   "name": "python",
   "nbconvert_exporter": "python",
   "pygments_lexer": "ipython3",
   "version": "3.8.3"
  }
 },
 "nbformat": 4,
 "nbformat_minor": 4
}
